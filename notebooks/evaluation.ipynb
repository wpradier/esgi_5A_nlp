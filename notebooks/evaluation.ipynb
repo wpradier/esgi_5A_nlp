{
 "cells": [
  {
   "cell_type": "code",
   "id": "initial_id",
   "metadata": {
    "collapsed": true,
    "ExecuteTime": {
     "end_time": "2024-10-27T22:29:00.002481Z",
     "start_time": "2024-10-27T22:28:57.462152Z"
    }
   },
   "source": [
    "import pandas as pd\n",
    "from tensorflow.python.ops.confusion_matrix import confusion_matrix"
   ],
   "outputs": [
    {
     "name": "stderr",
     "output_type": "stream",
     "text": [
      "2024-10-27 23:28:57.878777: I tensorflow/core/util/port.cc:113] oneDNN custom operations are on. You may see slightly different numerical results due to floating-point round-off errors from different computation orders. To turn them off, set the environment variable `TF_ENABLE_ONEDNN_OPTS=0`.\n",
      "2024-10-27 23:28:58.105685: E external/local_xla/xla/stream_executor/cuda/cuda_dnn.cc:9261] Unable to register cuDNN factory: Attempting to register factory for plugin cuDNN when one has already been registered\n",
      "2024-10-27 23:28:58.105713: E external/local_xla/xla/stream_executor/cuda/cuda_fft.cc:607] Unable to register cuFFT factory: Attempting to register factory for plugin cuFFT when one has already been registered\n",
      "2024-10-27 23:28:58.146642: E external/local_xla/xla/stream_executor/cuda/cuda_blas.cc:1515] Unable to register cuBLAS factory: Attempting to register factory for plugin cuBLAS when one has already been registered\n",
      "2024-10-27 23:28:58.228006: I tensorflow/core/platform/cpu_feature_guard.cc:182] This TensorFlow binary is optimized to use available CPU instructions in performance-critical operations.\n",
      "To enable the following instructions: AVX2 AVX_VNNI FMA, in other operations, rebuild TensorFlow with the appropriate compiler flags.\n",
      "2024-10-27 23:28:59.141429: W tensorflow/compiler/tf2tensorrt/utils/py_utils.cc:38] TF-TRT Warning: Could not find TensorRT\n"
     ]
    }
   ],
   "execution_count": 8
  },
  {
   "metadata": {
    "ExecuteTime": {
     "end_time": "2024-10-27T22:01:55.577046Z",
     "start_time": "2024-10-27T22:01:55.551905Z"
    }
   },
   "cell_type": "code",
   "source": [
    "df = pd.read_csv('../data/processed/random_forest_n100_prediction.csv')\n",
    "df"
   ],
   "id": "d390331eee474b5b",
   "outputs": [
    {
     "data": {
      "text/plain": [
       "                                            video_name  is_comic  \\\n",
       "0    Le Barbecue Disney - La chanson de Frédéric Fr...         1   \n",
       "1    Le Roi et l'Oiseau - La Chronique de Christine...         1   \n",
       "2    L'amour du lac - La chronique d'Hippolyte Gira...         1   \n",
       "3    La fille de la piscine de Léa Tourret - La chr...         0   \n",
       "4    \"Le soleil va moins faire son malin quand Jean...         0   \n",
       "..                                                 ...       ...   \n",
       "994  Au Ces de Las Vegas des innovations à gogo et ...         0   \n",
       "995  Le questionnaire Jupiproust de Frédérique Matonti         1   \n",
       "996          Raphael - La Nuit N'en Finit Plus (cover)         0   \n",
       "997  Des sachets de drogue estampillés Haribeu sais...         1   \n",
       "998  \"1984\" par Xavier Coste : Prix Bd Fnac France ...         0   \n",
       "\n",
       "                                        processed_text  is_comic_prediction  \n",
       "0             barbecu disney - chanson frédéric fromet                    1  \n",
       "1              roi l'oiseau - chroniqu christin gonzal                    1  \n",
       "2           l'amour lac - chroniqu d'hippolyt girardot                    1  \n",
       "3      fill piscin lé tourret - chroniqu juliet arnaud                    0  \n",
       "4    \"le soleil va moin fair malin quand jean-luc v...                    0  \n",
       "..                                                 ...                  ...  \n",
       "994    las veg innov gogo entrepris français bon posit                    0  \n",
       "995              questionnair jupiproust fréder matont                    1  \n",
       "996               raphael - nuit n'en fin plus (cover)                    0  \n",
       "997  sachet drogu estampill haribeu sais : viv fran...                    1  \n",
       "998   \"1984\" xavi cost : prix bd fnac franc inter 2022                    0  \n",
       "\n",
       "[999 rows x 4 columns]"
      ],
      "text/html": [
       "<div>\n",
       "<style scoped>\n",
       "    .dataframe tbody tr th:only-of-type {\n",
       "        vertical-align: middle;\n",
       "    }\n",
       "\n",
       "    .dataframe tbody tr th {\n",
       "        vertical-align: top;\n",
       "    }\n",
       "\n",
       "    .dataframe thead th {\n",
       "        text-align: right;\n",
       "    }\n",
       "</style>\n",
       "<table border=\"1\" class=\"dataframe\">\n",
       "  <thead>\n",
       "    <tr style=\"text-align: right;\">\n",
       "      <th></th>\n",
       "      <th>video_name</th>\n",
       "      <th>is_comic</th>\n",
       "      <th>processed_text</th>\n",
       "      <th>is_comic_prediction</th>\n",
       "    </tr>\n",
       "  </thead>\n",
       "  <tbody>\n",
       "    <tr>\n",
       "      <th>0</th>\n",
       "      <td>Le Barbecue Disney - La chanson de Frédéric Fr...</td>\n",
       "      <td>1</td>\n",
       "      <td>barbecu disney - chanson frédéric fromet</td>\n",
       "      <td>1</td>\n",
       "    </tr>\n",
       "    <tr>\n",
       "      <th>1</th>\n",
       "      <td>Le Roi et l'Oiseau - La Chronique de Christine...</td>\n",
       "      <td>1</td>\n",
       "      <td>roi l'oiseau - chroniqu christin gonzal</td>\n",
       "      <td>1</td>\n",
       "    </tr>\n",
       "    <tr>\n",
       "      <th>2</th>\n",
       "      <td>L'amour du lac - La chronique d'Hippolyte Gira...</td>\n",
       "      <td>1</td>\n",
       "      <td>l'amour lac - chroniqu d'hippolyt girardot</td>\n",
       "      <td>1</td>\n",
       "    </tr>\n",
       "    <tr>\n",
       "      <th>3</th>\n",
       "      <td>La fille de la piscine de Léa Tourret - La chr...</td>\n",
       "      <td>0</td>\n",
       "      <td>fill piscin lé tourret - chroniqu juliet arnaud</td>\n",
       "      <td>0</td>\n",
       "    </tr>\n",
       "    <tr>\n",
       "      <th>4</th>\n",
       "      <td>\"Le soleil va moins faire son malin quand Jean...</td>\n",
       "      <td>0</td>\n",
       "      <td>\"le soleil va moin fair malin quand jean-luc v...</td>\n",
       "      <td>0</td>\n",
       "    </tr>\n",
       "    <tr>\n",
       "      <th>...</th>\n",
       "      <td>...</td>\n",
       "      <td>...</td>\n",
       "      <td>...</td>\n",
       "      <td>...</td>\n",
       "    </tr>\n",
       "    <tr>\n",
       "      <th>994</th>\n",
       "      <td>Au Ces de Las Vegas des innovations à gogo et ...</td>\n",
       "      <td>0</td>\n",
       "      <td>las veg innov gogo entrepris français bon posit</td>\n",
       "      <td>0</td>\n",
       "    </tr>\n",
       "    <tr>\n",
       "      <th>995</th>\n",
       "      <td>Le questionnaire Jupiproust de Frédérique Matonti</td>\n",
       "      <td>1</td>\n",
       "      <td>questionnair jupiproust fréder matont</td>\n",
       "      <td>1</td>\n",
       "    </tr>\n",
       "    <tr>\n",
       "      <th>996</th>\n",
       "      <td>Raphael - La Nuit N'en Finit Plus (cover)</td>\n",
       "      <td>0</td>\n",
       "      <td>raphael - nuit n'en fin plus (cover)</td>\n",
       "      <td>0</td>\n",
       "    </tr>\n",
       "    <tr>\n",
       "      <th>997</th>\n",
       "      <td>Des sachets de drogue estampillés Haribeu sais...</td>\n",
       "      <td>1</td>\n",
       "      <td>sachet drogu estampill haribeu sais : viv fran...</td>\n",
       "      <td>1</td>\n",
       "    </tr>\n",
       "    <tr>\n",
       "      <th>998</th>\n",
       "      <td>\"1984\" par Xavier Coste : Prix Bd Fnac France ...</td>\n",
       "      <td>0</td>\n",
       "      <td>\"1984\" xavi cost : prix bd fnac franc inter 2022</td>\n",
       "      <td>0</td>\n",
       "    </tr>\n",
       "  </tbody>\n",
       "</table>\n",
       "<p>999 rows × 4 columns</p>\n",
       "</div>"
      ]
     },
     "execution_count": 5,
     "metadata": {},
     "output_type": "execute_result"
    }
   ],
   "execution_count": 5
  },
  {
   "metadata": {
    "ExecuteTime": {
     "end_time": "2024-10-27T22:28:07.143571Z",
     "start_time": "2024-10-27T22:28:07.133935Z"
    }
   },
   "cell_type": "code",
   "source": [
    "raw_train = pd.read_csv('../data/raw/train.csv')\n",
    "\n",
    "raw_train"
   ],
   "id": "79f0d140497af114",
   "outputs": [
    {
     "data": {
      "text/plain": [
       "                                            video_name  is_comic\n",
       "0    Le Barbecue Disney - La chanson de Frédéric Fr...         1\n",
       "1    Le Roi et l'Oiseau - La Chronique de Christine...         1\n",
       "2    L'amour du lac - La chronique d'Hippolyte Gira...         1\n",
       "3    La fille de la piscine de Léa Tourret - La chr...         0\n",
       "4    \"Le soleil va moins faire son malin quand Jean...         0\n",
       "..                                                 ...       ...\n",
       "994  Au Ces de Las Vegas des innovations à gogo et ...         0\n",
       "995  Le questionnaire Jupiproust de Frédérique Matonti         1\n",
       "996          Raphael - La Nuit N'en Finit Plus (cover)         0\n",
       "997  Des sachets de drogue estampillés Haribeu sais...         1\n",
       "998  \"1984\" par Xavier Coste : Prix Bd Fnac France ...         0\n",
       "\n",
       "[999 rows x 2 columns]"
      ],
      "text/html": [
       "<div>\n",
       "<style scoped>\n",
       "    .dataframe tbody tr th:only-of-type {\n",
       "        vertical-align: middle;\n",
       "    }\n",
       "\n",
       "    .dataframe tbody tr th {\n",
       "        vertical-align: top;\n",
       "    }\n",
       "\n",
       "    .dataframe thead th {\n",
       "        text-align: right;\n",
       "    }\n",
       "</style>\n",
       "<table border=\"1\" class=\"dataframe\">\n",
       "  <thead>\n",
       "    <tr style=\"text-align: right;\">\n",
       "      <th></th>\n",
       "      <th>video_name</th>\n",
       "      <th>is_comic</th>\n",
       "    </tr>\n",
       "  </thead>\n",
       "  <tbody>\n",
       "    <tr>\n",
       "      <th>0</th>\n",
       "      <td>Le Barbecue Disney - La chanson de Frédéric Fr...</td>\n",
       "      <td>1</td>\n",
       "    </tr>\n",
       "    <tr>\n",
       "      <th>1</th>\n",
       "      <td>Le Roi et l'Oiseau - La Chronique de Christine...</td>\n",
       "      <td>1</td>\n",
       "    </tr>\n",
       "    <tr>\n",
       "      <th>2</th>\n",
       "      <td>L'amour du lac - La chronique d'Hippolyte Gira...</td>\n",
       "      <td>1</td>\n",
       "    </tr>\n",
       "    <tr>\n",
       "      <th>3</th>\n",
       "      <td>La fille de la piscine de Léa Tourret - La chr...</td>\n",
       "      <td>0</td>\n",
       "    </tr>\n",
       "    <tr>\n",
       "      <th>4</th>\n",
       "      <td>\"Le soleil va moins faire son malin quand Jean...</td>\n",
       "      <td>0</td>\n",
       "    </tr>\n",
       "    <tr>\n",
       "      <th>...</th>\n",
       "      <td>...</td>\n",
       "      <td>...</td>\n",
       "    </tr>\n",
       "    <tr>\n",
       "      <th>994</th>\n",
       "      <td>Au Ces de Las Vegas des innovations à gogo et ...</td>\n",
       "      <td>0</td>\n",
       "    </tr>\n",
       "    <tr>\n",
       "      <th>995</th>\n",
       "      <td>Le questionnaire Jupiproust de Frédérique Matonti</td>\n",
       "      <td>1</td>\n",
       "    </tr>\n",
       "    <tr>\n",
       "      <th>996</th>\n",
       "      <td>Raphael - La Nuit N'en Finit Plus (cover)</td>\n",
       "      <td>0</td>\n",
       "    </tr>\n",
       "    <tr>\n",
       "      <th>997</th>\n",
       "      <td>Des sachets de drogue estampillés Haribeu sais...</td>\n",
       "      <td>1</td>\n",
       "    </tr>\n",
       "    <tr>\n",
       "      <th>998</th>\n",
       "      <td>\"1984\" par Xavier Coste : Prix Bd Fnac France ...</td>\n",
       "      <td>0</td>\n",
       "    </tr>\n",
       "  </tbody>\n",
       "</table>\n",
       "<p>999 rows × 2 columns</p>\n",
       "</div>"
      ]
     },
     "execution_count": 6,
     "metadata": {},
     "output_type": "execute_result"
    }
   ],
   "execution_count": 6
  },
  {
   "metadata": {
    "ExecuteTime": {
     "end_time": "2024-10-27T22:29:05.196175Z",
     "start_time": "2024-10-27T22:29:03.573912Z"
    }
   },
   "cell_type": "code",
   "source": "confusion_matrix(raw_train[\"is_comic\"], df[\"is_comic\"])",
   "id": "adc89acbcf2f7277",
   "outputs": [
    {
     "name": "stderr",
     "output_type": "stream",
     "text": [
      "2024-10-27 23:29:03.698509: I external/local_xla/xla/stream_executor/cuda/cuda_executor.cc:887] could not open file to read NUMA node: /sys/bus/pci/devices/0000:01:00.0/numa_node\n",
      "Your kernel may have been built without NUMA support.\n",
      "2024-10-27 23:29:03.830030: I external/local_xla/xla/stream_executor/cuda/cuda_executor.cc:887] could not open file to read NUMA node: /sys/bus/pci/devices/0000:01:00.0/numa_node\n",
      "Your kernel may have been built without NUMA support.\n",
      "2024-10-27 23:29:03.830062: I external/local_xla/xla/stream_executor/cuda/cuda_executor.cc:887] could not open file to read NUMA node: /sys/bus/pci/devices/0000:01:00.0/numa_node\n",
      "Your kernel may have been built without NUMA support.\n",
      "2024-10-27 23:29:03.833897: I external/local_xla/xla/stream_executor/cuda/cuda_executor.cc:887] could not open file to read NUMA node: /sys/bus/pci/devices/0000:01:00.0/numa_node\n",
      "Your kernel may have been built without NUMA support.\n",
      "2024-10-27 23:29:03.833927: I external/local_xla/xla/stream_executor/cuda/cuda_executor.cc:887] could not open file to read NUMA node: /sys/bus/pci/devices/0000:01:00.0/numa_node\n",
      "Your kernel may have been built without NUMA support.\n",
      "2024-10-27 23:29:03.833952: I external/local_xla/xla/stream_executor/cuda/cuda_executor.cc:887] could not open file to read NUMA node: /sys/bus/pci/devices/0000:01:00.0/numa_node\n",
      "Your kernel may have been built without NUMA support.\n",
      "2024-10-27 23:29:04.005759: I external/local_xla/xla/stream_executor/cuda/cuda_executor.cc:887] could not open file to read NUMA node: /sys/bus/pci/devices/0000:01:00.0/numa_node\n",
      "Your kernel may have been built without NUMA support.\n",
      "2024-10-27 23:29:04.005794: I external/local_xla/xla/stream_executor/cuda/cuda_executor.cc:887] could not open file to read NUMA node: /sys/bus/pci/devices/0000:01:00.0/numa_node\n",
      "Your kernel may have been built without NUMA support.\n",
      "2024-10-27 23:29:04.005799: I tensorflow/core/common_runtime/gpu/gpu_device.cc:2022] Could not identify NUMA node of platform GPU id 0, defaulting to 0.  Your kernel may not have been built with NUMA support.\n",
      "2024-10-27 23:29:04.005819: I external/local_xla/xla/stream_executor/cuda/cuda_executor.cc:887] could not open file to read NUMA node: /sys/bus/pci/devices/0000:01:00.0/numa_node\n",
      "Your kernel may have been built without NUMA support.\n",
      "2024-10-27 23:29:04.005831: I tensorflow/core/common_runtime/gpu/gpu_device.cc:1929] Created device /job:localhost/replica:0/task:0/device:GPU:0 with 5523 MB memory:  -> device: 0, name: NVIDIA GeForce RTX 4070 Laptop GPU, pci bus id: 0000:01:00.0, compute capability: 8.9\n",
      "2024-10-27 23:29:05.004725: I external/local_tsl/tsl/platform/default/subprocess.cc:304] Start cannot spawn child process: Permission denied\n"
     ]
    },
    {
     "data": {
      "text/plain": [
       "<tf.Tensor: shape=(2, 2), dtype=int32, numpy=\n",
       "array([[827,   0],\n",
       "       [  0, 172]], dtype=int32)>"
      ]
     },
     "execution_count": 9,
     "metadata": {},
     "output_type": "execute_result"
    }
   ],
   "execution_count": 9
  }
 ],
 "metadata": {
  "kernelspec": {
   "display_name": "Python 3",
   "language": "python",
   "name": "python3"
  },
  "language_info": {
   "codemirror_mode": {
    "name": "ipython",
    "version": 2
   },
   "file_extension": ".py",
   "mimetype": "text/x-python",
   "name": "python",
   "nbconvert_exporter": "python",
   "pygments_lexer": "ipython2",
   "version": "2.7.6"
  }
 },
 "nbformat": 4,
 "nbformat_minor": 5
}
